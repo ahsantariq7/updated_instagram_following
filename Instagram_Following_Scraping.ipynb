{
 "cells": [
  {
   "cell_type": "code",
   "execution_count": 1,
   "id": "a72eb61d",
   "metadata": {},
   "outputs": [],
   "source": [
    "from selenium import webdriver\n",
    "from webdriver_manager.chrome import ChromeDriverManager\n",
    "from selenium.webdriver.common.by import By\n",
    "from selenium.webdriver.common.keys import Keys\n",
    "from selenium.webdriver.common.action_chains import ActionChains\n",
    "from selenium.webdriver.support.wait import WebDriverWait\n",
    "from selenium.webdriver.support import expected_conditions as EC\n",
    "from selenium.common.exceptions import NoSuchElementException\n",
    "from selenium.webdriver.common.action_chains import ActionChains\n",
    "import time\n",
    "import pandas as pd"
   ]
  },
  {
   "cell_type": "code",
   "execution_count": 2,
   "id": "25d74d2c",
   "metadata": {},
   "outputs": [],
   "source": [
    "options = webdriver.ChromeOptions()\n",
    "#options.add_argument(\"--headless\")\n",
    "options.add_argument('--no-sandbox')\n",
    "options.add_argument(\"--log-level=3\")\n",
    "mobile_emulation = {\n",
    "        \"userAgent\": \"Mozilla/5.0 (Linux; Android 4.2.1; en-us; Nexus 5 Build/JOP40D) AppleWebKit/535.19 (KHTML, like Gecko) Chrome/90.0.1025.166 Mobile Safari/535.19\"}\n",
    "options.add_experimental_option(\"mobileEmulation\", mobile_emulation)"
   ]
  },
  {
   "cell_type": "code",
   "execution_count": 3,
   "id": "0fe67795",
   "metadata": {},
   "outputs": [
    {
     "name": "stderr",
     "output_type": "stream",
     "text": [
      "C:\\Users\\ahsan\\AppData\\Local\\Temp\\ipykernel_6292\\296633303.py:1: DeprecationWarning: executable_path has been deprecated, please pass in a Service object\n",
      "  driver=webdriver.Chrome(ChromeDriverManager().install(),options=options)\n"
     ]
    }
   ],
   "source": [
    "driver=webdriver.Chrome(ChromeDriverManager().install(),options=options)\n",
    "driver.get('https://www.instagram.com/accounts/login/')\n",
    "time.sleep(5)"
   ]
  },
  {
   "cell_type": "code",
   "execution_count": 4,
   "id": "39b820f2",
   "metadata": {},
   "outputs": [],
   "source": [
    "user_input=driver.find_element(By.NAME,'username')\n",
    "pass_input=driver.find_element(By.NAME,'password')\n",
    "user_input.send_keys('appointment_with_0724_bk_food')\n",
    "pass_input.send_keys('')\n",
    "\n",
    "login_button=driver.find_element(By.XPATH,'//*[@id=\"loginForm\"]/div[1]/div[6]')\n",
    "login_button.click()\n",
    "\n",
    "time.sleep(10)"
   ]
  },
  {
   "cell_type": "code",
   "execution_count": 5,
   "id": "fada5722",
   "metadata": {},
   "outputs": [
    {
     "ename": "KeyboardInterrupt",
     "evalue": "",
     "output_type": "error",
     "traceback": [
      "\u001b[1;31m---------------------------------------------------------------------------\u001b[0m",
      "\u001b[1;31mKeyboardInterrupt\u001b[0m                         Traceback (most recent call last)",
      "Cell \u001b[1;32mIn[5], line 19\u001b[0m\n\u001b[0;32m     17\u001b[0m \u001b[38;5;28;01mwhile\u001b[39;00m \u001b[38;5;129;01mnot\u001b[39;00m followers_loaded \u001b[38;5;129;01mand\u001b[39;00m timer \u001b[38;5;241m<\u001b[39m TIMEOUT:\n\u001b[0;32m     18\u001b[0m     driver\u001b[38;5;241m.\u001b[39mexecute_script(\u001b[38;5;124m\"\u001b[39m\u001b[38;5;124mwindow.scrollTo(0, document.body.scrollHeight);\u001b[39m\u001b[38;5;124m\"\u001b[39m)\n\u001b[1;32m---> 19\u001b[0m     \u001b[43mtime\u001b[49m\u001b[38;5;241;43m.\u001b[39;49m\u001b[43msleep\u001b[49m\u001b[43m(\u001b[49m\u001b[43mWAIT_TIME\u001b[49m\u001b[43m)\u001b[49m\n\u001b[0;32m     20\u001b[0m     new_height \u001b[38;5;241m=\u001b[39m driver\u001b[38;5;241m.\u001b[39mexecute_script(\u001b[38;5;124m\"\u001b[39m\u001b[38;5;124mreturn document.body.scrollHeight\u001b[39m\u001b[38;5;124m\"\u001b[39m)\n\u001b[0;32m     21\u001b[0m     \u001b[38;5;28;01mif\u001b[39;00m new_height \u001b[38;5;241m==\u001b[39m prev_height:\n",
      "\u001b[1;31mKeyboardInterrupt\u001b[0m: "
     ]
    }
   ],
   "source": [
    "account = ['flame_sports_wear_']\n",
    "TIMEOUT = 10\n",
    "WAIT_TIME = 2\n",
    "\n",
    "\n",
    "for acc in account:\n",
    "    try:\n",
    "        driver.get(f'https://www.instagram.com/{acc}/')\n",
    "\n",
    "        followers_link = WebDriverWait(driver, TIMEOUT).until(EC.presence_of_element_located((By.XPATH, \"//a[contains(@href, '/following')]\")))\n",
    "        driver.execute_script(\"arguments[0].click();\", followers_link)\n",
    "\n",
    "        prev_height = driver.execute_script(\"return document.body.scrollHeight\")\n",
    "        followers_loaded = False\n",
    "        timer = 0\n",
    "\n",
    "        while not followers_loaded and timer < TIMEOUT:\n",
    "            driver.execute_script(\"window.scrollTo(0, document.body.scrollHeight);\")\n",
    "            time.sleep(WAIT_TIME)\n",
    "            new_height = driver.execute_script(\"return document.body.scrollHeight\")\n",
    "            if new_height == prev_height:\n",
    "                timer += WAIT_TIME\n",
    "                if timer >= TIMEOUT:\n",
    "                    raise TimeoutError(f\"\\nAll followers loaded for account {acc}.\")\n",
    "            else:\n",
    "                prev_height = new_height\n",
    "                timer = 0\n",
    "\n",
    "        print(f\"Timeout: Unable to load all followers for account  {acc}\")\n",
    "\n",
    "    except Exception as e:\n",
    "        print(f\"Scraping Done For {acc}: {str(e)}\")\n",
    "\n"
   ]
  },
  {
   "cell_type": "code",
   "execution_count": 6,
   "id": "0cc9cabd",
   "metadata": {},
   "outputs": [],
   "source": [
    "time.sleep(5)\n",
    "links=driver.find_elements(By.CLASS_NAME,'x9f619.xjbqb8w.x78zum5.x168nmei.x13lgxp2.x5pf9jr.xo71vjh.x1uhb9sk.x1plvlek.xryxfnj.x1c4vz4f.x2lah0s.x1q0g3np.xqjyukv.x1qjc9v5.x1oa3qoh.x1nhvcw1')"
   ]
  },
  {
   "cell_type": "code",
   "execution_count": 7,
   "id": "df2054ad",
   "metadata": {},
   "outputs": [],
   "source": [
    "user_links=[]\n",
    "get_links=driver.find_elements(By.CLASS_NAME, \"x1i10hfl.xjbqb8w.x6umtig.x1b1mbwd.xaqea5y.xav7gou.x9f619.x1ypdohk.xt0psk2.xe8uvvx.xdj266r.x11i5rnm.xat24cr.x1mh8g0r.xexx8yu.x4uap5.x18d9i69.xkhd6sd.x16tdsg8.x1hl2dhg.xggy1nq.x1a2a7pz.notranslate._a6hd\")\n",
    "for j in get_links:\n",
    "    user_links.append(j.get_attribute(\"href\"))"
   ]
  },
  {
   "cell_type": "code",
   "execution_count": 8,
   "id": "6b320b92",
   "metadata": {},
   "outputs": [
    {
     "name": "stdout",
     "output_type": "stream",
     "text": [
      "                                            User_Links\n",
      "0          https://www.instagram.com/iamiftikharahmad/\n",
      "1        https://www.instagram.com/coachkeyonmarshall/\n",
      "2           https://www.instagram.com/theqb.whisperer/\n",
      "3           https://www.instagram.com/da_mafia_mdheat/\n",
      "4                   https://www.instagram.com/_coachc/\n",
      "..                                                 ...\n",
      "493        https://www.instagram.com/cloveclothingltd/\n",
      "494      https://www.instagram.com/moneyrite_clothing/\n",
      "495      https://www.instagram.com/key2thecityapparel/\n",
      "496           https://www.instagram.com/noidolapparel/\n",
      "497  https://www.instagram.com/hygherclothingcollec...\n",
      "\n",
      "[498 rows x 1 columns]\n"
     ]
    }
   ],
   "source": [
    "ah=pd.DataFrame({'User_Links':user_links})\n",
    "print(ah)"
   ]
  },
  {
   "cell_type": "code",
   "execution_count": 9,
   "id": "dd8aec54",
   "metadata": {},
   "outputs": [],
   "source": [
    "links=[]\n",
    "for i in ah.User_Links:\n",
    "    links.append(i)\n",
    "    \n"
   ]
  },
  {
   "cell_type": "code",
   "execution_count": 10,
   "id": "79881afd",
   "metadata": {},
   "outputs": [
    {
     "name": "stdout",
     "output_type": "stream",
     "text": [
      "coachkeyonmarshall Keyon Marshall\n",
      "Husband, Father of 3 [] [] \n",
      " Keep Wait Data Collecting\n",
      "theqb.whisperer Gabriel Prophet\n",
      "@prophected_visions presents Prophected Quarterback Training\n",
      "🔥Elite QB Coach🔥\n",
      "📍DC/MD 👥 All Ages\n",
      "🗣️Book Your Sessions Today‼️ [] [] \n",
      " Keep Wait Data Collecting\n",
      "da_mafia_mdheat 🔥🔥23’ MD Heat 9u 🔥🔥\n",
      "@damafia_heat_2.0\n",
      "🔥🔥🔥🔥🔥🔥🔥\n",
      "🔥GOOD met GOOD and then good conformed to make & become something GREAT🔥 [] [] \n",
      " Keep Wait Data Collecting\n",
      "_coachc Coach C\n",
      "Offensive coordinator @ Oxon Hill\n",
      "Offensive assistant @ Maryland heat 9U [] [] \n",
      " Keep Wait Data Collecting\n",
      "dominic_k2015 Dominic K\n",
      "Sportsperson\n",
      "Class of 2034 RNR Top 100\n",
      "4’8” 123 pounds out of pads\n",
      "@newcastlejagsfootball @ginnelite8u\n",
      "@aemgsports certified athlete\n",
      "@bighitslive Ambassador\n",
      "rnrsportsmedia.com/2023/02/12/2022-rnrtop100-national-youngstars-watch-list-c-o-2034 [] [] \n",
      " Keep Wait Data Collecting\n",
      "klm_football KLM BOYS & GIRLS CLUB\n",
      "50+💪🏾 We’re More Than an Org. We’re Family‼️\n",
      "www.klmbgc.com [] [] \n",
      " Keep Wait Data Collecting\n",
      "showcasesharks10u Showcase Sharks 10U\n",
      "2021 8u AYF METRO LEAGUE CHAMPIONS 🏆\n",
      "2021 8u MARYLAND STATE CHAMPIONS 🏆\n",
      "2021 8u VA SPRING LEAGUE CHAMPIONS 🏆 [] [] \n",
      " Keep Wait Data Collecting\n",
      "watkinshornetsyouthfootball Watkins Hornets\n",
      "8x National Champs\n",
      "gofund.me/85cd65a6 [] [] \n",
      " Keep Wait Data Collecting\n"
     ]
    },
    {
     "ename": "TimeoutException",
     "evalue": "Message: \nStacktrace:\nBacktrace:\n\tGetHandleVerifier [0x002AA813+48355]\n\t(No symbol) [0x0023C4B1]\n\t(No symbol) [0x00145358]\n\t(No symbol) [0x001709A5]\n\t(No symbol) [0x00170B3B]\n\t(No symbol) [0x0019E232]\n\t(No symbol) [0x0018A784]\n\t(No symbol) [0x0019C922]\n\t(No symbol) [0x0018A536]\n\t(No symbol) [0x001682DC]\n\t(No symbol) [0x001693DD]\n\tGetHandleVerifier [0x0050AABD+2539405]\n\tGetHandleVerifier [0x0054A78F+2800735]\n\tGetHandleVerifier [0x0054456C+2775612]\n\tGetHandleVerifier [0x003351E0+616112]\n\t(No symbol) [0x00245F8C]\n\t(No symbol) [0x00242328]\n\t(No symbol) [0x0024240B]\n\t(No symbol) [0x00234FF7]\n\tBaseThreadInitThunk [0x768C00C9+25]\n\tRtlGetAppContainerNamedObjectPath [0x77567B4E+286]\n\tRtlGetAppContainerNamedObjectPath [0x77567B1E+238]\n\t(No symbol) [0x00000000]\n",
     "output_type": "error",
     "traceback": [
      "\u001b[1;31m---------------------------------------------------------------------------\u001b[0m",
      "\u001b[1;31mTimeoutException\u001b[0m                          Traceback (most recent call last)",
      "Cell \u001b[1;32mIn[10], line 9\u001b[0m\n\u001b[0;32m      7\u001b[0m \u001b[38;5;28;01mfor\u001b[39;00m i \u001b[38;5;129;01min\u001b[39;00m links[\u001b[38;5;241m1\u001b[39m::]:\n\u001b[0;32m      8\u001b[0m     driver\u001b[38;5;241m.\u001b[39mget(i)\n\u001b[1;32m----> 9\u001b[0m     \u001b[43mWebDriverWait\u001b[49m\u001b[43m(\u001b[49m\u001b[43mdriver\u001b[49m\u001b[43m,\u001b[49m\u001b[43m \u001b[49m\u001b[43mTIMEOUT\u001b[49m\u001b[43m)\u001b[49m\u001b[38;5;241;43m.\u001b[39;49m\u001b[43muntil\u001b[49m\u001b[43m(\u001b[49m\n\u001b[0;32m     10\u001b[0m \u001b[43m        \u001b[49m\u001b[43mEC\u001b[49m\u001b[38;5;241;43m.\u001b[39;49m\u001b[43mpresence_of_element_located\u001b[49m\u001b[43m(\u001b[49m\u001b[43m(\u001b[49m\n\u001b[0;32m     11\u001b[0m \u001b[43m            \u001b[49m\u001b[43mBy\u001b[49m\u001b[38;5;241;43m.\u001b[39;49m\u001b[43mXPATH\u001b[49m\u001b[43m,\u001b[49m\u001b[43m \u001b[49m\u001b[38;5;124;43m\"\u001b[39;49m\u001b[38;5;124;43m/html/body/div[2]/div/div/div[2]/div/div/div/div[1]/div[1]/div[2]/div[2]/section/main/div/header/section/div[1]/a/h2\u001b[39;49m\u001b[38;5;124;43m\"\u001b[39;49m\u001b[43m)\u001b[49m\u001b[43m)\u001b[49m\u001b[43m)\u001b[49m\u001b[38;5;241m.\u001b[39mtext\n\u001b[0;32m     13\u001b[0m     time\u001b[38;5;241m.\u001b[39msleep(\u001b[38;5;241m2\u001b[39m)\n\u001b[0;32m     14\u001b[0m     pattern_1 \u001b[38;5;241m=\u001b[39m \u001b[38;5;124mr\u001b[39m\u001b[38;5;124m'\u001b[39m\u001b[38;5;124m\\\u001b[39m\u001b[38;5;124mb[A-Za-z0-9._\u001b[39m\u001b[38;5;124m%\u001b[39m\u001b[38;5;124m+-]+@gmail.com\u001b[39m\u001b[38;5;124m\\\u001b[39m\u001b[38;5;124mb\u001b[39m\u001b[38;5;124m'\u001b[39m\n",
      "File \u001b[1;32m~\\anaconda3\\lib\\site-packages\\selenium\\webdriver\\support\\wait.py:95\u001b[0m, in \u001b[0;36mWebDriverWait.until\u001b[1;34m(self, method, message)\u001b[0m\n\u001b[0;32m     93\u001b[0m     \u001b[38;5;28;01mif\u001b[39;00m time\u001b[38;5;241m.\u001b[39mmonotonic() \u001b[38;5;241m>\u001b[39m end_time:\n\u001b[0;32m     94\u001b[0m         \u001b[38;5;28;01mbreak\u001b[39;00m\n\u001b[1;32m---> 95\u001b[0m \u001b[38;5;28;01mraise\u001b[39;00m TimeoutException(message, screen, stacktrace)\n",
      "\u001b[1;31mTimeoutException\u001b[0m: Message: \nStacktrace:\nBacktrace:\n\tGetHandleVerifier [0x002AA813+48355]\n\t(No symbol) [0x0023C4B1]\n\t(No symbol) [0x00145358]\n\t(No symbol) [0x001709A5]\n\t(No symbol) [0x00170B3B]\n\t(No symbol) [0x0019E232]\n\t(No symbol) [0x0018A784]\n\t(No symbol) [0x0019C922]\n\t(No symbol) [0x0018A536]\n\t(No symbol) [0x001682DC]\n\t(No symbol) [0x001693DD]\n\tGetHandleVerifier [0x0050AABD+2539405]\n\tGetHandleVerifier [0x0054A78F+2800735]\n\tGetHandleVerifier [0x0054456C+2775612]\n\tGetHandleVerifier [0x003351E0+616112]\n\t(No symbol) [0x00245F8C]\n\t(No symbol) [0x00242328]\n\t(No symbol) [0x0024240B]\n\t(No symbol) [0x00234FF7]\n\tBaseThreadInitThunk [0x768C00C9+25]\n\tRtlGetAppContainerNamedObjectPath [0x77567B4E+286]\n\tRtlGetAppContainerNamedObjectPath [0x77567B1E+238]\n\t(No symbol) [0x00000000]\n"
     ]
    }
   ],
   "source": [
    "import re\n",
    "user_name=[]\n",
    "bio_user=[]\n",
    "email_user=[]\n",
    "phone_user=[]\n",
    "user_link=[]\n",
    "for i in links[1::]:\n",
    "    driver.get(i)\n",
    "    WebDriverWait(driver, TIMEOUT).until(\n",
    "        EC.presence_of_element_located((\n",
    "            By.XPATH, \"/html/body/div[2]/div/div/div[2]/div/div/div/div[1]/div[1]/div[2]/div[2]/section/main/div/header/section/div[1]/a/h2\"))).text\n",
    "\n",
    "    time.sleep(2)\n",
    "    pattern_1 = r'\\b[A-Za-z0-9._%+-]+@gmail.com\\b'\n",
    "    pattern_2 = r'(\\+\\d{1,2}\\s?)?\\(?\\d{3}\\)?[-.\\s]?\\d{3}[-.\\s]?\\d{4}'\n",
    "    user=driver.find_element(By.XPATH,'/html/body/div[2]/div/div/div[2]/div/div/div/div[1]/div[1]/div[2]/div[2]/section/main/div/header/section/div[1]/a/h2').text\n",
    "    bio=driver.find_element(By.CLASS_NAME,'_aa_c').text\n",
    "    emails = re.findall(pattern_1, bio)\n",
    "    phone=re.findall(pattern_2,bio)\n",
    "    user_link.append(i)\n",
    "    user_name.append(user)\n",
    "    bio_user.append(bio)\n",
    "    email_user.append(emails)\n",
    "    phone_user.append(phone)\n",
    "    print(user,bio,emails,phone,'\\n Keep Wait Data Collecting')\n",
    "\n",
    "\n"
   ]
  },
  {
   "cell_type": "code",
   "execution_count": 11,
   "id": "f6051f93",
   "metadata": {},
   "outputs": [],
   "source": [
    "bio_user=[s.replace(\"\\n\", \" \") for s in bio_user]"
   ]
  },
  {
   "cell_type": "code",
   "execution_count": 12,
   "id": "4b25294b",
   "metadata": {},
   "outputs": [],
   "source": [
    "df=pd.DataFrame({\n",
    "    'User_Name':user_name,'User_Link':user_link,'User_Bio':bio_user,'User_Email':email_user,'User_Phone':phone_user\n",
    "})"
   ]
  },
  {
   "cell_type": "code",
   "execution_count": 13,
   "id": "2a7a54a6",
   "metadata": {},
   "outputs": [
    {
     "data": {
      "text/html": [
       "<div>\n",
       "<style scoped>\n",
       "    .dataframe tbody tr th:only-of-type {\n",
       "        vertical-align: middle;\n",
       "    }\n",
       "\n",
       "    .dataframe tbody tr th {\n",
       "        vertical-align: top;\n",
       "    }\n",
       "\n",
       "    .dataframe thead th {\n",
       "        text-align: right;\n",
       "    }\n",
       "</style>\n",
       "<table border=\"1\" class=\"dataframe\">\n",
       "  <thead>\n",
       "    <tr style=\"text-align: right;\">\n",
       "      <th></th>\n",
       "      <th>User_Name</th>\n",
       "      <th>User_Link</th>\n",
       "      <th>User_Bio</th>\n",
       "      <th>User_Email</th>\n",
       "      <th>User_Phone</th>\n",
       "    </tr>\n",
       "  </thead>\n",
       "  <tbody>\n",
       "    <tr>\n",
       "      <th>0</th>\n",
       "      <td>coachkeyonmarshall</td>\n",
       "      <td>https://www.instagram.com/coachkeyonmarshall/</td>\n",
       "      <td>Keyon Marshall Husband, Father of 3</td>\n",
       "      <td>[]</td>\n",
       "      <td>[]</td>\n",
       "    </tr>\n",
       "    <tr>\n",
       "      <th>1</th>\n",
       "      <td>theqb.whisperer</td>\n",
       "      <td>https://www.instagram.com/theqb.whisperer/</td>\n",
       "      <td>Gabriel Prophet @prophected_visions presents P...</td>\n",
       "      <td>[]</td>\n",
       "      <td>[]</td>\n",
       "    </tr>\n",
       "    <tr>\n",
       "      <th>2</th>\n",
       "      <td>da_mafia_mdheat</td>\n",
       "      <td>https://www.instagram.com/da_mafia_mdheat/</td>\n",
       "      <td>🔥🔥23’ MD Heat 9u 🔥🔥 @damafia_heat_2.0 🔥🔥🔥🔥🔥🔥🔥 ...</td>\n",
       "      <td>[]</td>\n",
       "      <td>[]</td>\n",
       "    </tr>\n",
       "    <tr>\n",
       "      <th>3</th>\n",
       "      <td>_coachc</td>\n",
       "      <td>https://www.instagram.com/_coachc/</td>\n",
       "      <td>Coach C Offensive coordinator @ Oxon Hill Offe...</td>\n",
       "      <td>[]</td>\n",
       "      <td>[]</td>\n",
       "    </tr>\n",
       "    <tr>\n",
       "      <th>4</th>\n",
       "      <td>dominic_k2015</td>\n",
       "      <td>https://www.instagram.com/dominic_k2015/</td>\n",
       "      <td>Dominic K Sportsperson Class of 2034 RNR Top 1...</td>\n",
       "      <td>[]</td>\n",
       "      <td>[]</td>\n",
       "    </tr>\n",
       "    <tr>\n",
       "      <th>5</th>\n",
       "      <td>klm_football</td>\n",
       "      <td>https://www.instagram.com/klm_football/</td>\n",
       "      <td>KLM BOYS &amp; GIRLS CLUB 50+💪🏾 We’re More Than an...</td>\n",
       "      <td>[]</td>\n",
       "      <td>[]</td>\n",
       "    </tr>\n",
       "    <tr>\n",
       "      <th>6</th>\n",
       "      <td>showcasesharks10u</td>\n",
       "      <td>https://www.instagram.com/showcasesharks10u/</td>\n",
       "      <td>Showcase Sharks 10U 2021 8u AYF METRO LEAGUE C...</td>\n",
       "      <td>[]</td>\n",
       "      <td>[]</td>\n",
       "    </tr>\n",
       "    <tr>\n",
       "      <th>7</th>\n",
       "      <td>watkinshornetsyouthfootball</td>\n",
       "      <td>https://www.instagram.com/watkinshornetsyouthf...</td>\n",
       "      <td>Watkins Hornets 8x National Champs gofund.me/8...</td>\n",
       "      <td>[]</td>\n",
       "      <td>[]</td>\n",
       "    </tr>\n",
       "  </tbody>\n",
       "</table>\n",
       "</div>"
      ],
      "text/plain": [
       "                     User_Name  \\\n",
       "0           coachkeyonmarshall   \n",
       "1              theqb.whisperer   \n",
       "2              da_mafia_mdheat   \n",
       "3                      _coachc   \n",
       "4                dominic_k2015   \n",
       "5                 klm_football   \n",
       "6            showcasesharks10u   \n",
       "7  watkinshornetsyouthfootball   \n",
       "\n",
       "                                           User_Link  \\\n",
       "0      https://www.instagram.com/coachkeyonmarshall/   \n",
       "1         https://www.instagram.com/theqb.whisperer/   \n",
       "2         https://www.instagram.com/da_mafia_mdheat/   \n",
       "3                 https://www.instagram.com/_coachc/   \n",
       "4           https://www.instagram.com/dominic_k2015/   \n",
       "5            https://www.instagram.com/klm_football/   \n",
       "6       https://www.instagram.com/showcasesharks10u/   \n",
       "7  https://www.instagram.com/watkinshornetsyouthf...   \n",
       "\n",
       "                                            User_Bio User_Email User_Phone  \n",
       "0                Keyon Marshall Husband, Father of 3         []         []  \n",
       "1  Gabriel Prophet @prophected_visions presents P...         []         []  \n",
       "2  🔥🔥23’ MD Heat 9u 🔥🔥 @damafia_heat_2.0 🔥🔥🔥🔥🔥🔥🔥 ...         []         []  \n",
       "3  Coach C Offensive coordinator @ Oxon Hill Offe...         []         []  \n",
       "4  Dominic K Sportsperson Class of 2034 RNR Top 1...         []         []  \n",
       "5  KLM BOYS & GIRLS CLUB 50+💪🏾 We’re More Than an...         []         []  \n",
       "6  Showcase Sharks 10U 2021 8u AYF METRO LEAGUE C...         []         []  \n",
       "7  Watkins Hornets 8x National Champs gofund.me/8...         []         []  "
      ]
     },
     "execution_count": 13,
     "metadata": {},
     "output_type": "execute_result"
    }
   ],
   "source": [
    "df"
   ]
  },
  {
   "cell_type": "code",
   "execution_count": 14,
   "id": "91430e9c",
   "metadata": {},
   "outputs": [],
   "source": [
    "df.to_csv('Instagram_Following.csv')"
   ]
  },
  {
   "cell_type": "code",
   "execution_count": null,
   "id": "cfab50a0",
   "metadata": {},
   "outputs": [],
   "source": []
  }
 ],
 "metadata": {
  "kernelspec": {
   "display_name": "Python 3 (ipykernel)",
   "language": "python",
   "name": "python3"
  },
  "language_info": {
   "codemirror_mode": {
    "name": "ipython",
    "version": 3
   },
   "file_extension": ".py",
   "mimetype": "text/x-python",
   "name": "python",
   "nbconvert_exporter": "python",
   "pygments_lexer": "ipython3",
   "version": "3.11.7"
  }
 },
 "nbformat": 4,
 "nbformat_minor": 5
}
